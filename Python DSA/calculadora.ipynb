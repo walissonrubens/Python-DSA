{
 "cells": [
  {
   "cell_type": "code",
   "execution_count": 5,
   "id": "185490a9-d5a1-4582-8b53-b67f348fba3e",
   "metadata": {},
   "outputs": [
    {
     "name": "stdout",
     "output_type": "stream",
     "text": [
      "\n",
      "******************* Calculadora em Python *******************\n",
      "\n",
      "Selecione o numero da operação: \n",
      "\n",
      "1 - Soma\n",
      "2 - Subtração\n",
      "3 - Multiplicação\n",
      "4 - Divisão\n",
      "\n"
     ]
    },
    {
     "name": "stdin",
     "output_type": "stream",
     "text": [
      "Selecione uma opção:  5\n",
      "Digite o primeiro numero:  2\n",
      "Digite o segundo numero:  1\n"
     ]
    },
    {
     "name": "stdout",
     "output_type": "stream",
     "text": [
      "Opção invalida\n"
     ]
    }
   ],
   "source": [
    "# Calculadora em Python\n",
    "\n",
    "# Desenvolva uma calculadora em Python com tudo que você aprendeu nos capítulos até aqui no curso. \n",
    "# A solução será apresentada no próximo capítulo!\n",
    "\n",
    "print(\"\\n******************* Calculadora em Python *******************\\n\")\n",
    "\n",
    "print('Selecione o numero da operação: \\n')\n",
    "print('1 - Soma')\n",
    "print('2 - Subtração')\n",
    "print('3 - Multiplicação')\n",
    "print('4 - Divisão\\n')\n",
    "\n",
    "operador = int(input('Selecione uma opção: '))\n",
    "\n",
    "primeiroNum = float(input('Digite o primeiro numero: '))\n",
    "segundoNum = float(input('Digite o segundo numero: '))\n",
    "\n",
    "if operador == 1:\n",
    "    resultadoSoma = primeiroNum + segundoNum\n",
    "    print(f'{primeiroNum} + {segundoNum} = {resultadoSoma:.2f}')\n",
    "\n",
    "elif operador == 2:\n",
    "    resultadoSub = primeiroNum - segundoNum\n",
    "    print(f'{primeiroNum} - {segundoNum} = {resultadoSub:.2f}')\n",
    "\n",
    "elif operador == 3:\n",
    "    resultadoMulti = primeiroNum * segundoNum\n",
    "    print(f'{primeiroNum} * {segundoNum} = {resultadoMulti:.2f}')\n",
    "\n",
    "elif operador == 4:\n",
    "    resultadoDiv = primeiroNum / segundoNum\n",
    "    print(f'{primeiroNum} / {segundoNum} = {resultadoDiv:.2f}')\n",
    "\n",
    "else:\n",
    "    print('Opção invalida')\n"
   ]
  }
 ],
 "metadata": {
  "kernelspec": {
   "display_name": "Python 3 (ipykernel)",
   "language": "python",
   "name": "python3"
  },
  "language_info": {
   "codemirror_mode": {
    "name": "ipython",
    "version": 3
   },
   "file_extension": ".py",
   "mimetype": "text/x-python",
   "name": "python",
   "nbconvert_exporter": "python",
   "pygments_lexer": "ipython3",
   "version": "3.12.7"
  }
 },
 "nbformat": 4,
 "nbformat_minor": 5
}
