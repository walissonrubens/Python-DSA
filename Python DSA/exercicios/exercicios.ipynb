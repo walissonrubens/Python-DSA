{
 "cells": [
  {
   "cell_type": "code",
   "execution_count": 2,
   "id": "2fbe96e8-69d0-483e-a5eb-6011efd856c1",
   "metadata": {},
   "outputs": [
    {
     "name": "stdout",
     "output_type": "stream",
     "text": [
      "1\n",
      "2\n",
      "3\n",
      "4\n",
      "5\n",
      "6\n",
      "7\n",
      "8\n",
      "9\n",
      "10\n",
      "[1, 2, 3, 4, 5, 6, 7, 8, 9, 10]\n"
     ]
    }
   ],
   "source": [
    "# Exercício 1 - Imprima na tela os números de 1 a 10. Use uma lista para armazenar os números.\n",
    "num = 1\n",
    "lista = []\n",
    "while num <= 10:\n",
    "    lista.append(num)\n",
    "    print(num)\n",
    "    num += 1\n",
    "print(lista)"
   ]
  },
  {
   "cell_type": "code",
   "execution_count": 3,
   "id": "e7d0ee50-8acf-4730-8403-e6444d55d608",
   "metadata": {},
   "outputs": [],
   "source": [
    "# Exercício 2 - Crie uma lista de 5 objetos e imprima na tela\n",
    "frutas = ['Maçã', 'Banana', 'Uva', 'Pera', 'Laranja'] "
   ]
  },
  {
   "cell_type": "code",
   "execution_count": 4,
   "id": "4802eae8-8dc7-46e6-aabe-842a23c807eb",
   "metadata": {},
   "outputs": [
    {
     "data": {
      "text/plain": [
       "['Maçã', 'Banana', 'Uva', 'Pera', 'Laranja']"
      ]
     },
     "execution_count": 4,
     "metadata": {},
     "output_type": "execute_result"
    }
   ],
   "source": [
    "frutas"
   ]
  },
  {
   "cell_type": "code",
   "execution_count": 7,
   "id": "58aef544-59e1-49d0-ad76-889e3c3fad9f",
   "metadata": {},
   "outputs": [
    {
     "name": "stdout",
     "output_type": "stream",
     "text": [
      "string 1 string 2\n"
     ]
    }
   ],
   "source": [
    "# Exercício 3 - Crie duas strings e concatene as duas em uma terceira string\n",
    "str1 = 'string 1 '\n",
    "str2 = 'string 2'\n",
    "str3 = str1 + str2\n",
    "print(str3)"
   ]
  },
  {
   "cell_type": "code",
   "execution_count": 8,
   "id": "c2f27a20-b9d6-40ce-8673-3813640d1400",
   "metadata": {},
   "outputs": [
    {
     "data": {
      "text/plain": [
       "(1, 2, 2, 3, 4, 4, 4, 5)"
      ]
     },
     "execution_count": 8,
     "metadata": {},
     "output_type": "execute_result"
    }
   ],
   "source": [
    "# Exercício 4 - Crie uma tupla com os seguintes elementos: 1, 2, 2, 3, 4, 4, 4, 5 e depois utilize a função count do \n",
    "# objeto tupla para verificar quantas vezes o número 4 aparece na tupla\n",
    "tupla = (1, 2, 2, 3, 4, 4, 4, 5)\n",
    "tupla"
   ]
  },
  {
   "cell_type": "code",
   "execution_count": 9,
   "id": "025b63db-c106-4ee0-a61b-275158235acb",
   "metadata": {},
   "outputs": [
    {
     "data": {
      "text/plain": [
       "3"
      ]
     },
     "execution_count": 9,
     "metadata": {},
     "output_type": "execute_result"
    }
   ],
   "source": [
    "tupla.count(4)"
   ]
  },
  {
   "cell_type": "code",
   "execution_count": 11,
   "id": "a54caca0-7355-4075-ac42-a4762b8f1050",
   "metadata": {},
   "outputs": [],
   "source": [
    "# Exercício 5 - Crie um dicionário vazio e imprima na tela\n",
    "dict = {}"
   ]
  },
  {
   "cell_type": "code",
   "execution_count": 12,
   "id": "f280698a-245a-47a7-b489-b4c1d5d4225a",
   "metadata": {},
   "outputs": [],
   "source": [
    "# Exercício 6 - Crie um dicionário com 3 chaves e 3 valores e imprima na tela"
   ]
  },
  {
   "cell_type": "code",
   "execution_count": 15,
   "id": "68dc66e7-0232-4b6f-b8fa-5ff15886b1f9",
   "metadata": {},
   "outputs": [
    {
     "data": {
      "text/plain": [
       "{'chave1': 1, 'chave2': 2, 'chave3': 3}"
      ]
     },
     "execution_count": 15,
     "metadata": {},
     "output_type": "execute_result"
    }
   ],
   "source": [
    "dict = {'chave1': 1, 'chave2': 2, 'chave3': 3}\n",
    "dict"
   ]
  },
  {
   "cell_type": "code",
   "execution_count": 17,
   "id": "e48f8ac5-9ce8-4bc0-9039-ba0eba77d023",
   "metadata": {},
   "outputs": [
    {
     "data": {
      "text/plain": [
       "{'chave1': 1, 'chave2': 2, 'chave3': 3, 'chave4': 4}"
      ]
     },
     "execution_count": 17,
     "metadata": {},
     "output_type": "execute_result"
    }
   ],
   "source": [
    "# Exercício 7 - Adicione mais um elemento ao dicionário criado no exercício anterior e imprima na tela\n",
    "dict['chave4'] = 4\n",
    "dict"
   ]
  },
  {
   "cell_type": "code",
   "execution_count": 18,
   "id": "929a6fee-e42c-420e-8fe1-e12a3c72cf51",
   "metadata": {},
   "outputs": [
    {
     "data": {
      "text/plain": [
       "{'chave1': 1, 'chave2': ['t1', 't2'], 'chave3': 3}"
      ]
     },
     "execution_count": 18,
     "metadata": {},
     "output_type": "execute_result"
    }
   ],
   "source": [
    "# Exercício 8 - Crie um dicionário com 3 chaves e 3 valores. \n",
    "# Um dos valores deve ser uma lista de 2 elementos numéricos. \n",
    "# Imprima o dicionário na tela.\n",
    "\n",
    "dict = {'chave1': 1, 'chave2': ['t1', 't2'], 'chave3': 3}\n",
    "dict"
   ]
  },
  {
   "cell_type": "code",
   "execution_count": 25,
   "id": "4d062e96-11b9-4a89-9890-5a617d5d0f26",
   "metadata": {},
   "outputs": [
    {
     "data": {
      "text/plain": [
       "['chave1', (90, 91), {'c1': 1, 'c2': 2}, 3.14]"
      ]
     },
     "execution_count": 25,
     "metadata": {},
     "output_type": "execute_result"
    }
   ],
   "source": [
    "# Exercício 9 - Crie uma lista de 4 elementos. O primeiro elemento deve ser uma string, \n",
    "# o segundo uma tupla de 2 elementos, o terceiro um dcionário com 2 chaves e 2 valores e \n",
    "# o quarto elemento um valor do tipo float.\n",
    "# Imprima a lista.\n",
    "dict = ['chave1', (90, 91), {'c1': 1, 'c2': 2}, 3.14]\n",
    "dict"
   ]
  },
  {
   "cell_type": "code",
   "execution_count": 26,
   "id": "d5f9d179-6d0b-4be4-9b36-d952ea6d46e2",
   "metadata": {},
   "outputs": [
    {
     "data": {
      "text/plain": [
       "'Cientista de Dados'"
      ]
     },
     "execution_count": 26,
     "metadata": {},
     "output_type": "execute_result"
    }
   ],
   "source": [
    "# Exercício 10 - Considere a string abaixo. Imprima na tela apenas os caracteres da posição 1 a 18.\n",
    "frase = 'Cientista de Dados é o profissional mais sexy do século XXI'\n",
    "frase[0:18] "
   ]
  },
  {
   "cell_type": "code",
   "execution_count": null,
   "id": "c1a98ce7-0ec5-4c8e-947c-f5c18e3b875b",
   "metadata": {},
   "outputs": [],
   "source": []
  }
 ],
 "metadata": {
  "kernelspec": {
   "display_name": "Python 3 (ipykernel)",
   "language": "python",
   "name": "python3"
  },
  "language_info": {
   "codemirror_mode": {
    "name": "ipython",
    "version": 3
   },
   "file_extension": ".py",
   "mimetype": "text/x-python",
   "name": "python",
   "nbconvert_exporter": "python",
   "pygments_lexer": "ipython3",
   "version": "3.12.7"
  }
 },
 "nbformat": 4,
 "nbformat_minor": 5
}
