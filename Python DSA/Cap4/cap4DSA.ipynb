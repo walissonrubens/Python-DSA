{
 "cells": [
  {
   "cell_type": "markdown",
   "id": "a50c3805-08bd-4e74-8566-08a652a467f6",
   "metadata": {},
   "source": [
    "s = \"Data Science Acadamedy\""
   ]
  },
  {
   "cell_type": "code",
   "execution_count": 3,
   "id": "2d8538b1-3012-49ae-9c5b-845c53ad8883",
   "metadata": {},
   "outputs": [
    {
     "name": "stdout",
     "output_type": "stream",
     "text": [
      "Data Science Acadamedy\n"
     ]
    }
   ],
   "source": [
    "print(s)"
   ]
  },
  {
   "cell_type": "code",
   "execution_count": 7,
   "id": "7894558a-ad76-408f-a35f-e30d5596f287",
   "metadata": {},
   "outputs": [
    {
     "data": {
      "text/plain": [
       "'Data Science Acadamedy'"
      ]
     },
     "execution_count": 7,
     "metadata": {},
     "output_type": "execute_result"
    }
   ],
   "source": [
    "s\n"
   ]
  },
  {
   "cell_type": "code",
   "execution_count": 5,
   "id": "d7d19a54-b73e-4439-953f-e990fb8f3d08",
   "metadata": {},
   "outputs": [
    {
     "data": {
      "text/plain": [
       "22"
      ]
     },
     "execution_count": 5,
     "metadata": {},
     "output_type": "execute_result"
    }
   ],
   "source": [
    "len(s)"
   ]
  },
  {
   "cell_type": "code",
   "execution_count": 6,
   "id": "ed7f4b87-9459-4c02-8e50-9d9441875159",
   "metadata": {},
   "outputs": [
    {
     "data": {
      "text/plain": [
       "'ydemadacA ecneicS ataD'"
      ]
     },
     "execution_count": 6,
     "metadata": {},
     "output_type": "execute_result"
    }
   ],
   "source": [
    "s[::-1]"
   ]
  },
  {
   "cell_type": "code",
   "execution_count": 8,
   "id": "e700cc3a-8c19-4891-a6f3-fdca7a1c7675",
   "metadata": {},
   "outputs": [
    {
     "data": {
      "text/plain": [
       "['Data', 'Science', 'Acadamedy']"
      ]
     },
     "execution_count": 8,
     "metadata": {},
     "output_type": "execute_result"
    }
   ],
   "source": [
    "s.split()\n"
   ]
  },
  {
   "cell_type": "code",
   "execution_count": 9,
   "id": "6d7788e2-f4fc-4cbe-989b-7ec7d0cabece",
   "metadata": {},
   "outputs": [
    {
     "data": {
      "text/plain": [
       "['Data Science Acadamed', '']"
      ]
     },
     "execution_count": 9,
     "metadata": {},
     "output_type": "execute_result"
    }
   ],
   "source": [
    "s.split(\"y\")"
   ]
  },
  {
   "cell_type": "code",
   "execution_count": 12,
   "id": "8e70c754-4642-4ab1-854c-60048f7d8bbc",
   "metadata": {},
   "outputs": [
    {
     "name": "stdout",
     "output_type": "stream",
     "text": [
      "Data Science Acadamedy\n"
     ]
    }
   ],
   "source": [
    "print(s)"
   ]
  },
  {
   "cell_type": "markdown",
   "id": "36cec5b6-5f75-4a1a-b025-97e07baaebdd",
   "metadata": {},
   "source": [
    "LISTAS"
   ]
  },
  {
   "cell_type": "code",
   "execution_count": 13,
   "id": "fc547657-6159-45f8-a1bf-f4dd39a4b9e3",
   "metadata": {},
   "outputs": [],
   "source": [
    "listas = [[1, 2, 3], [10, 15, 14], [10.1, 8.7, 2.3]]"
   ]
  },
  {
   "cell_type": "code",
   "execution_count": 14,
   "id": "5c40ba7a-c574-437b-9c84-73ec5eae7a42",
   "metadata": {},
   "outputs": [
    {
     "data": {
      "text/plain": [
       "[[1, 2, 3], [10, 15, 14], [10.1, 8.7, 2.3]]"
      ]
     },
     "execution_count": 14,
     "metadata": {},
     "output_type": "execute_result"
    }
   ],
   "source": [
    "listas"
   ]
  },
  {
   "cell_type": "code",
   "execution_count": 15,
   "id": "d6a115ed-f9c0-45d7-98b3-bce44bd71bab",
   "metadata": {},
   "outputs": [
    {
     "data": {
      "text/plain": [
       "[1, 2, 3]"
      ]
     },
     "execution_count": 15,
     "metadata": {},
     "output_type": "execute_result"
    }
   ],
   "source": [
    "listas[0]"
   ]
  },
  {
   "cell_type": "code",
   "execution_count": 18,
   "id": "2860542e-f777-4c42-a2f6-a9c844232cb6",
   "metadata": {},
   "outputs": [],
   "source": [
    "a = listas[0][0]"
   ]
  },
  {
   "cell_type": "code",
   "execution_count": 19,
   "id": "d39154a5-4bfc-4cef-96a4-a1b28bcbbfcd",
   "metadata": {},
   "outputs": [
    {
     "data": {
      "text/plain": [
       "1"
      ]
     },
     "execution_count": 19,
     "metadata": {},
     "output_type": "execute_result"
    }
   ],
   "source": [
    "a"
   ]
  },
  {
   "cell_type": "code",
   "execution_count": 21,
   "id": "bc25c3b6-53b7-430a-80e7-6e6bd27708df",
   "metadata": {},
   "outputs": [],
   "source": [
    "b = listas[1][2]"
   ]
  },
  {
   "cell_type": "code",
   "execution_count": 22,
   "id": "9d4edd90-9402-4025-82a2-55c7ef138c7d",
   "metadata": {},
   "outputs": [
    {
     "data": {
      "text/plain": [
       "14"
      ]
     },
     "execution_count": 22,
     "metadata": {},
     "output_type": "execute_result"
    }
   ],
   "source": [
    "b"
   ]
  },
  {
   "cell_type": "code",
   "execution_count": 23,
   "id": "d332a05c-9807-45c4-b3c1-eb2f70a21e50",
   "metadata": {},
   "outputs": [],
   "source": [
    "c = listas[1][2] + 10"
   ]
  },
  {
   "cell_type": "code",
   "execution_count": 24,
   "id": "80836a13-c222-4bc3-8ec7-70e58e819d1f",
   "metadata": {},
   "outputs": [
    {
     "data": {
      "text/plain": [
       "24"
      ]
     },
     "execution_count": 24,
     "metadata": {},
     "output_type": "execute_result"
    }
   ],
   "source": [
    "c"
   ]
  },
  {
   "cell_type": "code",
   "execution_count": 25,
   "id": "65253e01-fa17-4719-bfad-4c194642598f",
   "metadata": {},
   "outputs": [],
   "source": [
    "d = 10"
   ]
  },
  {
   "cell_type": "code",
   "execution_count": 27,
   "id": "4c354702-5885-49dc-be59-9cde25b15cc5",
   "metadata": {},
   "outputs": [],
   "source": [
    "e = d * listas[0][2]"
   ]
  },
  {
   "cell_type": "code",
   "execution_count": 28,
   "id": "5437cadf-f056-457e-aaed-f9a139e11303",
   "metadata": {},
   "outputs": [
    {
     "data": {
      "text/plain": [
       "30"
      ]
     },
     "execution_count": 28,
     "metadata": {},
     "output_type": "execute_result"
    }
   ],
   "source": [
    "e"
   ]
  },
  {
   "cell_type": "code",
   "execution_count": 30,
   "id": "273d5d1c-0d4a-46d4-a7a7-090399f86aa7",
   "metadata": {},
   "outputs": [],
   "source": [
    "#Concatenar listas:"
   ]
  },
  {
   "cell_type": "code",
   "execution_count": 31,
   "id": "7c9aeb0f-750a-4206-b632-9e35dc30a99a",
   "metadata": {},
   "outputs": [],
   "source": [
    "lista_s1 = [10, 20, 30]"
   ]
  },
  {
   "cell_type": "code",
   "execution_count": 32,
   "id": "405b53d8-aca4-42e3-ab87-c7a8b9632278",
   "metadata": {},
   "outputs": [],
   "source": [
    "lista_s2 = [40, 50, 60]"
   ]
  },
  {
   "cell_type": "code",
   "execution_count": 33,
   "id": "7bf5d8ab-317e-4e3b-b70e-8ea2566e78f3",
   "metadata": {},
   "outputs": [],
   "source": [
    "total = lista_s1 + lista_s2"
   ]
  },
  {
   "cell_type": "code",
   "execution_count": 34,
   "id": "8832c400-a4d1-4d32-b319-417ae8683ab5",
   "metadata": {},
   "outputs": [
    {
     "data": {
      "text/plain": [
       "[10, 20, 30, 40, 50, 60]"
      ]
     },
     "execution_count": 34,
     "metadata": {},
     "output_type": "execute_result"
    }
   ],
   "source": [
    "total"
   ]
  },
  {
   "cell_type": "markdown",
   "id": "a9b0c398-13da-403c-8865-152774cf0de0",
   "metadata": {},
   "source": [
    "OPERADOR *IN*"
   ]
  },
  {
   "cell_type": "code",
   "execution_count": 35,
   "id": "52ef6719-692c-4f86-a08d-c5a01f69eece",
   "metadata": {},
   "outputs": [],
   "source": [
    "lista_teste = [100, 2, -5, 3.4]"
   ]
  },
  {
   "cell_type": "code",
   "execution_count": 37,
   "id": "a1f467ad-5003-45c2-9490-054784c4c80a",
   "metadata": {},
   "outputs": [
    {
     "name": "stdout",
     "output_type": "stream",
     "text": [
      "False\n"
     ]
    }
   ],
   "source": [
    "print(10 in lista_teste)"
   ]
  },
  {
   "cell_type": "code",
   "execution_count": 39,
   "id": "ef4da36b-e5f7-49e6-9cfd-fc1661421a7a",
   "metadata": {},
   "outputs": [
    {
     "name": "stdout",
     "output_type": "stream",
     "text": [
      "True\n"
     ]
    }
   ],
   "source": [
    "print(100 in lista_teste)"
   ]
  },
  {
   "cell_type": "code",
   "execution_count": 40,
   "id": "931cedea-94dc-4142-8310-9855783a4abe",
   "metadata": {},
   "outputs": [
    {
     "data": {
      "text/plain": [
       "4"
      ]
     },
     "execution_count": 40,
     "metadata": {},
     "output_type": "execute_result"
    }
   ],
   "source": [
    "len(lista_teste)"
   ]
  },
  {
   "cell_type": "markdown",
   "id": "63be0458-b716-4039-a645-faee7ef46552",
   "metadata": {},
   "source": [
    "LISTAS APPEND "
   ]
  },
  {
   "cell_type": "code",
   "execution_count": 4,
   "id": "f1c4eedc-fd54-4da1-8b8f-f17960857a83",
   "metadata": {},
   "outputs": [],
   "source": [
    "#Criação da lissta\n",
    "lista_formacoes_dsa = [\"Analista de dados\", \"Cientista de dados\", \"Engenheiro de dados\"]"
   ]
  },
  {
   "cell_type": "code",
   "execution_count": 5,
   "id": "72ebca64-0314-4166-9b22-685ed893e84b",
   "metadata": {},
   "outputs": [
    {
     "data": {
      "text/plain": [
       "['Analista de dados', 'Cientista de dados', 'Engenheiro de dados']"
      ]
     },
     "execution_count": 5,
     "metadata": {},
     "output_type": "execute_result"
    }
   ],
   "source": [
    "lista_formacoes_dsa"
   ]
  },
  {
   "cell_type": "code",
   "execution_count": 8,
   "id": "a63b1979-3a17-4aa6-ac9a-ea02f0d41ceb",
   "metadata": {},
   "outputs": [],
   "source": [
    "lista_formacoes_dsa.append(\"Engenheiro de IA\")"
   ]
  },
  {
   "cell_type": "code",
   "execution_count": 9,
   "id": "46d751be-a859-4d9b-833c-4752bfacb21a",
   "metadata": {},
   "outputs": [],
   "source": [
    "lista_formacoes_dsa.append(\"Engenheiro de IA\")"
   ]
  },
  {
   "cell_type": "code",
   "execution_count": 10,
   "id": "528b6a95-5230-4e07-a2fa-26721d35390b",
   "metadata": {},
   "outputs": [
    {
     "data": {
      "text/plain": [
       "['Analista de dados',\n",
       " 'Cientista de dados',\n",
       " 'Engenheiro de dados',\n",
       " 'Engenheiro de IA',\n",
       " 'Engenheiro de IA',\n",
       " 'Engenheiro de IA']"
      ]
     },
     "execution_count": 10,
     "metadata": {},
     "output_type": "execute_result"
    }
   ],
   "source": [
    "lista_formacoes_dsa"
   ]
  },
  {
   "cell_type": "code",
   "execution_count": 11,
   "id": "4374ec5e-5d91-4673-ae83-073f572cae2b",
   "metadata": {},
   "outputs": [
    {
     "data": {
      "text/plain": [
       "3"
      ]
     },
     "execution_count": 11,
     "metadata": {},
     "output_type": "execute_result"
    }
   ],
   "source": [
    "lista_formacoes_dsa.count(\"Engenheiro de IA\")"
   ]
  },
  {
   "cell_type": "code",
   "execution_count": 13,
   "id": "82783817-db5b-4c8f-b50a-ed5f80166868",
   "metadata": {},
   "outputs": [],
   "source": [
    "#LISTA VAZIA\n",
    "a = []"
   ]
  },
  {
   "cell_type": "code",
   "execution_count": 14,
   "id": "fe4e486d-510c-4f11-995d-c29c0680204d",
   "metadata": {},
   "outputs": [
    {
     "name": "stdout",
     "output_type": "stream",
     "text": [
      "[]\n"
     ]
    }
   ],
   "source": [
    "print(a)"
   ]
  },
  {
   "cell_type": "code",
   "execution_count": 15,
   "id": "f3a68a67-5cc6-4d85-9e3a-c9a70f7bb858",
   "metadata": {},
   "outputs": [
    {
     "data": {
      "text/plain": [
       "list"
      ]
     },
     "execution_count": 15,
     "metadata": {},
     "output_type": "execute_result"
    }
   ],
   "source": [
    "type(a)"
   ]
  },
  {
   "cell_type": "code",
   "execution_count": 16,
   "id": "0d3a11eb-b60a-46c8-850d-0c8bafe48856",
   "metadata": {},
   "outputs": [],
   "source": [
    "a.append(10)"
   ]
  },
  {
   "cell_type": "code",
   "execution_count": 17,
   "id": "3ee2fe34-8c1b-4081-8868-bd97a2156ddb",
   "metadata": {},
   "outputs": [
    {
     "data": {
      "text/plain": [
       "[10]"
      ]
     },
     "execution_count": 17,
     "metadata": {},
     "output_type": "execute_result"
    }
   ],
   "source": [
    "a"
   ]
  },
  {
   "cell_type": "code",
   "execution_count": 18,
   "id": "98cf51a7-8101-4f59-abaa-b7f1354a97aa",
   "metadata": {},
   "outputs": [],
   "source": [
    "a.append(50)"
   ]
  },
  {
   "cell_type": "code",
   "execution_count": 19,
   "id": "646f0c9e-aea5-4b03-94fa-cf1244124b16",
   "metadata": {},
   "outputs": [
    {
     "data": {
      "text/plain": [
       "[10, 50]"
      ]
     },
     "execution_count": 19,
     "metadata": {},
     "output_type": "execute_result"
    }
   ],
   "source": [
    "a"
   ]
  },
  {
   "cell_type": "code",
   "execution_count": 20,
   "id": "c24bcbe2-1e8c-4d7d-bf0b-b9c690c96310",
   "metadata": {},
   "outputs": [],
   "source": [
    "old_lista = [1, 10, 15, 20]"
   ]
  },
  {
   "cell_type": "code",
   "execution_count": 21,
   "id": "21c7355e-6707-4de4-9f40-f015bda8d7d7",
   "metadata": {},
   "outputs": [],
   "source": [
    "new_lista = []"
   ]
  },
  {
   "cell_type": "code",
   "execution_count": 22,
   "id": "58c7d9ef-ce68-40b6-891d-086a8b5720c6",
   "metadata": {},
   "outputs": [],
   "source": [
    "#Copiar os itens de uma lista para outra\n",
    "for item in old_lista:\n",
    "    new_lista.append(item)"
   ]
  },
  {
   "cell_type": "code",
   "execution_count": 23,
   "id": "e937f7e7-f232-44a0-97b9-bf657a529c30",
   "metadata": {},
   "outputs": [
    {
     "data": {
      "text/plain": [
       "[1, 10, 15, 20]"
      ]
     },
     "execution_count": 23,
     "metadata": {},
     "output_type": "execute_result"
    }
   ],
   "source": [
    "new_lista\n"
   ]
  },
  {
   "cell_type": "code",
   "execution_count": 24,
   "id": "4dee1d0e-93ab-4155-b1f3-ade83367da92",
   "metadata": {},
   "outputs": [],
   "source": [
    "#EXTEND\n"
   ]
  },
  {
   "cell_type": "code",
   "execution_count": 25,
   "id": "fd3e3723-ae07-4c91-906e-d7e9923e60b3",
   "metadata": {},
   "outputs": [
    {
     "name": "stdout",
     "output_type": "stream",
     "text": [
      "['Recife', 'Manaus', 'Salvador', 'Fortaleza', 'Palmas']\n"
     ]
    }
   ],
   "source": [
    "cidades = [\"Recife\", \"Manaus\", \"Salvador\"]\n",
    "cidades.extend(['Fortaleza', 'Palmas'])\n",
    "print(cidades)"
   ]
  },
  {
   "cell_type": "code",
   "execution_count": 26,
   "id": "28836ff8-b82f-4721-b74a-9b90d7a7be69",
   "metadata": {},
   "outputs": [
    {
     "data": {
      "text/plain": [
       "2"
      ]
     },
     "execution_count": 26,
     "metadata": {},
     "output_type": "execute_result"
    }
   ],
   "source": [
    "cidades.index('Salvador')"
   ]
  },
  {
   "cell_type": "code",
   "execution_count": 27,
   "id": "17617ecd-dd33-4957-adad-ceeeea77726e",
   "metadata": {},
   "outputs": [
    {
     "ename": "ValueError",
     "evalue": "'Rio de Janeiro' is not in list",
     "output_type": "error",
     "traceback": [
      "\u001b[1;31m---------------------------------------------------------------------------\u001b[0m",
      "\u001b[1;31mValueError\u001b[0m                                Traceback (most recent call last)",
      "Cell \u001b[1;32mIn[27], line 1\u001b[0m\n\u001b[1;32m----> 1\u001b[0m cidades\u001b[38;5;241m.\u001b[39mindex(\u001b[38;5;124m'\u001b[39m\u001b[38;5;124mRio de Janeiro\u001b[39m\u001b[38;5;124m'\u001b[39m)\n",
      "\u001b[1;31mValueError\u001b[0m: 'Rio de Janeiro' is not in list"
     ]
    }
   ],
   "source": [
    "cidades.index('Rio de Janeiro')"
   ]
  },
  {
   "cell_type": "code",
   "execution_count": 28,
   "id": "80751961-318c-44c4-990b-0f0cf2e048a9",
   "metadata": {},
   "outputs": [
    {
     "data": {
      "text/plain": [
       "['Recife', 'Manaus', 'Salvador', 'Fortaleza', 'Palmas']"
      ]
     },
     "execution_count": 28,
     "metadata": {},
     "output_type": "execute_result"
    }
   ],
   "source": [
    "cidades"
   ]
  },
  {
   "cell_type": "code",
   "execution_count": 29,
   "id": "620677e1-fa2b-4159-8fc9-4e89ecd20540",
   "metadata": {},
   "outputs": [
    {
     "data": {
      "text/plain": [
       "['Recife', 'Manaus', 110, 'Salvador', 'Fortaleza', 'Palmas']"
      ]
     },
     "execution_count": 29,
     "metadata": {},
     "output_type": "execute_result"
    }
   ],
   "source": [
    "cidades.insert(2, 110)\n",
    "cidades"
   ]
  },
  {
   "cell_type": "code",
   "execution_count": 30,
   "id": "1a0e4449-5a2e-4903-8ffe-f7a366813a15",
   "metadata": {},
   "outputs": [
    {
     "data": {
      "text/plain": [
       "['Recife', 'Manaus', 'Salvador', 'Fortaleza', 'Palmas']"
      ]
     },
     "execution_count": 30,
     "metadata": {},
     "output_type": "execute_result"
    }
   ],
   "source": [
    "cidades.remove(110)\n",
    "cidades"
   ]
  },
  {
   "cell_type": "code",
   "execution_count": 33,
   "id": "5b76f4cd-7cf6-4460-a1e1-a4e8f28a1964",
   "metadata": {},
   "outputs": [
    {
     "data": {
      "text/plain": [
       "['Palmas', 'Fortaleza', 'Salvador', 'Manaus', 'Recife']"
      ]
     },
     "execution_count": 33,
     "metadata": {},
     "output_type": "execute_result"
    }
   ],
   "source": [
    "cidades.reverse()\n",
    "cidades"
   ]
  },
  {
   "cell_type": "code",
   "execution_count": 34,
   "id": "f5278692-5b7b-42d0-864d-901b059c145b",
   "metadata": {},
   "outputs": [],
   "source": [
    "x = [3, 4, 2, 1]\n",
    "x.sort()"
   ]
  },
  {
   "cell_type": "code",
   "execution_count": 35,
   "id": "f2a7517b-527f-485d-9f4d-c6a82c82d5bc",
   "metadata": {},
   "outputs": [
    {
     "data": {
      "text/plain": [
       "[1, 2, 3, 4]"
      ]
     },
     "execution_count": 35,
     "metadata": {},
     "output_type": "execute_result"
    }
   ],
   "source": [
    "x"
   ]
  },
  {
   "cell_type": "code",
   "execution_count": null,
   "id": "7b92405a-93b2-42ef-b080-fd81761c1c24",
   "metadata": {},
   "outputs": [],
   "source": []
  }
 ],
 "metadata": {
  "kernelspec": {
   "display_name": "Python 3 (ipykernel)",
   "language": "python",
   "name": "python3"
  },
  "language_info": {
   "codemirror_mode": {
    "name": "ipython",
    "version": 3
   },
   "file_extension": ".py",
   "mimetype": "text/x-python",
   "name": "python",
   "nbconvert_exporter": "python",
   "pygments_lexer": "ipython3",
   "version": "3.12.7"
  }
 },
 "nbformat": 4,
 "nbformat_minor": 5
}
