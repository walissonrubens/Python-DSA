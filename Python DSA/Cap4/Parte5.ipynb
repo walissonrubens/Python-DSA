{
 "cells": [
  {
   "cell_type": "code",
   "execution_count": 2,
   "id": "2137e9c8-444a-499c-b48d-3c1e6622f06c",
   "metadata": {},
   "outputs": [
    {
     "name": "stdout",
     "output_type": "stream",
     "text": [
      "3.12.7\n"
     ]
    }
   ],
   "source": [
    "from platform import python_version\n",
    "print(python_version())"
   ]
  },
  {
   "cell_type": "raw",
   "id": "2fe030e4-a114-4e66-b295-ea02f9f780f5",
   "metadata": {},
   "source": [
    "DICIONARIOS"
   ]
  },
  {
   "cell_type": "code",
   "execution_count": 1,
   "id": "99b43dd1-258c-4897-a222-ea44cdfea5f1",
   "metadata": {},
   "outputs": [],
   "source": [
    " #LISTA\n",
    "estudantes_lst = ['Pedro', 24, 'Ana', 22, 'Ronaldo', 26, 'Janaina', 25]"
   ]
  },
  {
   "cell_type": "code",
   "execution_count": 2,
   "id": "13d0ab34-667e-4ea3-aef4-5eb969de8f8e",
   "metadata": {},
   "outputs": [
    {
     "data": {
      "text/plain": [
       "['Pedro', 24, 'Ana', 22, 'Ronaldo', 26, 'Janaina', 25]"
      ]
     },
     "execution_count": 2,
     "metadata": {},
     "output_type": "execute_result"
    }
   ],
   "source": [
    "estudantes_lst"
   ]
  },
  {
   "cell_type": "code",
   "execution_count": 3,
   "id": "031166ef-3e7f-4cd0-b0d6-577bec532f5a",
   "metadata": {},
   "outputs": [],
   "source": [
    "#DICIONARIO: \n",
    "estudantes_dict = {'Pedro':24, 'Ana':22, 'Ronaldo':26, 'Janaina':25}"
   ]
  },
  {
   "cell_type": "code",
   "execution_count": 4,
   "id": "d33b1aad-350d-458c-9a82-d4667a070270",
   "metadata": {},
   "outputs": [
    {
     "data": {
      "text/plain": [
       "{'Pedro': 24, 'Ana': 22, 'Ronaldo': 26, 'Janaina': 25}"
      ]
     },
     "execution_count": 4,
     "metadata": {},
     "output_type": "execute_result"
    }
   ],
   "source": [
    "estudantes_dict"
   ]
  },
  {
   "cell_type": "code",
   "execution_count": 5,
   "id": "8ceef32d-0bf1-4d90-a2c0-9216c7d50f7f",
   "metadata": {},
   "outputs": [
    {
     "data": {
      "text/plain": [
       "24"
      ]
     },
     "execution_count": 5,
     "metadata": {},
     "output_type": "execute_result"
    }
   ],
   "source": [
    "estudantes_dict[\"Pedro\"]"
   ]
  },
  {
   "cell_type": "code",
   "execution_count": 6,
   "id": "0e7d4e6f-6732-4244-8096-39f8ccbf03aa",
   "metadata": {},
   "outputs": [],
   "source": [
    "#atribuir valor\n",
    "estudantes_dict[\"Marcelo\"] = 23"
   ]
  },
  {
   "cell_type": "code",
   "execution_count": 7,
   "id": "74d2d460-6daf-4f03-b6a0-d1b96d0406ca",
   "metadata": {},
   "outputs": [
    {
     "data": {
      "text/plain": [
       "23"
      ]
     },
     "execution_count": 7,
     "metadata": {},
     "output_type": "execute_result"
    }
   ],
   "source": [
    "estudantes_dict[\"Marcelo\"]"
   ]
  },
  {
   "cell_type": "code",
   "execution_count": 8,
   "id": "7174b1d8-13be-44d9-99e1-2698b50114ab",
   "metadata": {},
   "outputs": [
    {
     "data": {
      "text/plain": [
       "{'Pedro': 24, 'Ana': 22, 'Ronaldo': 26, 'Janaina': 25, 'Marcelo': 23}"
      ]
     },
     "execution_count": 8,
     "metadata": {},
     "output_type": "execute_result"
    }
   ],
   "source": [
    "estudantes_dict"
   ]
  },
  {
   "cell_type": "code",
   "execution_count": 9,
   "id": "9f9664ba-16d8-4438-9b3a-56d73396ad2f",
   "metadata": {},
   "outputs": [],
   "source": [
    "#limpar\n",
    "estudantes_dict.clear()"
   ]
  },
  {
   "cell_type": "code",
   "execution_count": 10,
   "id": "bc3ddf6f-83e2-40b2-b163-a00064442ea1",
   "metadata": {},
   "outputs": [
    {
     "data": {
      "text/plain": [
       "{}"
      ]
     },
     "execution_count": 10,
     "metadata": {},
     "output_type": "execute_result"
    }
   ],
   "source": [
    "estudantes_dict"
   ]
  },
  {
   "cell_type": "code",
   "execution_count": 11,
   "id": "d7617c62-356a-4655-a957-18140a3a9aaa",
   "metadata": {},
   "outputs": [],
   "source": [
    "del estudantes_dict"
   ]
  },
  {
   "cell_type": "code",
   "execution_count": 12,
   "id": "fff2159b-4ce6-4406-b184-bc8d80e5d838",
   "metadata": {},
   "outputs": [
    {
     "ename": "NameError",
     "evalue": "name 'estudantes_dict' is not defined",
     "output_type": "error",
     "traceback": [
      "\u001b[1;31m---------------------------------------------------------------------------\u001b[0m",
      "\u001b[1;31mNameError\u001b[0m                                 Traceback (most recent call last)",
      "Cell \u001b[1;32mIn[12], line 1\u001b[0m\n\u001b[1;32m----> 1\u001b[0m estudantes_dict\n",
      "\u001b[1;31mNameError\u001b[0m: name 'estudantes_dict' is not defined"
     ]
    }
   ],
   "source": [
    "estudantes_dict"
   ]
  },
  {
   "cell_type": "code",
   "execution_count": 13,
   "id": "39273de3-5b3c-46af-ab68-bf4405881921",
   "metadata": {},
   "outputs": [],
   "source": [
    "estudantes = {'Pedro':24, 'Ana':22, 'Ronaldo':26, 'Janaina':25}"
   ]
  },
  {
   "cell_type": "code",
   "execution_count": 14,
   "id": "9a99fe37-67ac-4e9e-a77c-453224aaa7f3",
   "metadata": {},
   "outputs": [
    {
     "data": {
      "text/plain": [
       "{'Pedro': 24, 'Ana': 22, 'Ronaldo': 26, 'Janaina': 25}"
      ]
     },
     "execution_count": 14,
     "metadata": {},
     "output_type": "execute_result"
    }
   ],
   "source": [
    "estudantes"
   ]
  },
  {
   "cell_type": "code",
   "execution_count": 16,
   "id": "cf4efec7-a1ac-4ca1-ada3-3ca4f0431969",
   "metadata": {},
   "outputs": [
    {
     "data": {
      "text/plain": [
       "4"
      ]
     },
     "execution_count": 16,
     "metadata": {},
     "output_type": "execute_result"
    }
   ],
   "source": [
    "#cada par um valor\n",
    "len(estudantes)"
   ]
  },
  {
   "cell_type": "code",
   "execution_count": 17,
   "id": "270f9bb4-0ea4-4a26-a0de-257ef1638f99",
   "metadata": {},
   "outputs": [
    {
     "data": {
      "text/plain": [
       "dict_keys(['Pedro', 'Ana', 'Ronaldo', 'Janaina'])"
      ]
     },
     "execution_count": 17,
     "metadata": {},
     "output_type": "execute_result"
    }
   ],
   "source": [
    "#retornar apenas chaves\n",
    "estudantes.keys()"
   ]
  },
  {
   "cell_type": "code",
   "execution_count": 18,
   "id": "16df5f3c-f865-47f9-ba7d-44acb18edebd",
   "metadata": {},
   "outputs": [
    {
     "data": {
      "text/plain": [
       "dict_values([24, 22, 26, 25])"
      ]
     },
     "execution_count": 18,
     "metadata": {},
     "output_type": "execute_result"
    }
   ],
   "source": [
    "#retornar apenas valores\n",
    "estudantes.values()"
   ]
  },
  {
   "cell_type": "code",
   "execution_count": 19,
   "id": "962d380d-f523-42b2-b893-55f04f555841",
   "metadata": {},
   "outputs": [
    {
     "data": {
      "text/plain": [
       "dict_items([('Pedro', 24), ('Ana', 22), ('Ronaldo', 26), ('Janaina', 25)])"
      ]
     },
     "execution_count": 19,
     "metadata": {},
     "output_type": "execute_result"
    }
   ],
   "source": [
    "#Retornar items\n",
    "estudantes.items()"
   ]
  },
  {
   "cell_type": "code",
   "execution_count": 20,
   "id": "c4f3748c-4ac0-471a-b390-35a9d1b131bf",
   "metadata": {},
   "outputs": [],
   "source": [
    "estudantes2 = {'Camila':27, \"Adriana\":28, \"Roberta\":26}"
   ]
  },
  {
   "cell_type": "code",
   "execution_count": 21,
   "id": "a6466585-ae7a-493c-8ec8-33c93044d4f0",
   "metadata": {},
   "outputs": [
    {
     "data": {
      "text/plain": [
       "{'Camila': 27, 'Adriana': 28, 'Roberta': 26}"
      ]
     },
     "execution_count": 21,
     "metadata": {},
     "output_type": "execute_result"
    }
   ],
   "source": [
    "estudantes2"
   ]
  },
  {
   "cell_type": "code",
   "execution_count": 22,
   "id": "f95abf22-9c1e-49be-8953-29bc569a0c02",
   "metadata": {},
   "outputs": [],
   "source": [
    "#Atualizar o primeiro dicionario com o segundo\n",
    "estudantes.update(estudantes2)"
   ]
  },
  {
   "cell_type": "code",
   "execution_count": 23,
   "id": "482edd0a-f42c-434d-bb33-db9653403b5b",
   "metadata": {},
   "outputs": [
    {
     "data": {
      "text/plain": [
       "{'Pedro': 24,\n",
       " 'Ana': 22,\n",
       " 'Ronaldo': 26,\n",
       " 'Janaina': 25,\n",
       " 'Camila': 27,\n",
       " 'Adriana': 28,\n",
       " 'Roberta': 26}"
      ]
     },
     "execution_count": 23,
     "metadata": {},
     "output_type": "execute_result"
    }
   ],
   "source": [
    "estudantes"
   ]
  },
  {
   "cell_type": "code",
   "execution_count": 24,
   "id": "fec068fd-0242-489e-a979-ea15b484cb4b",
   "metadata": {},
   "outputs": [],
   "source": [
    "#Dict vazio adicionando items"
   ]
  },
  {
   "cell_type": "code",
   "execution_count": 25,
   "id": "1e77db12-3ca3-40ed-b537-6ad2def4ba5d",
   "metadata": {},
   "outputs": [],
   "source": [
    "dicl = {}"
   ]
  },
  {
   "cell_type": "code",
   "execution_count": 26,
   "id": "878b94de-ee9e-49c4-9dff-a0aab94d97a5",
   "metadata": {},
   "outputs": [
    {
     "data": {
      "text/plain": [
       "{}"
      ]
     },
     "execution_count": 26,
     "metadata": {},
     "output_type": "execute_result"
    }
   ],
   "source": [
    "dicl"
   ]
  },
  {
   "cell_type": "code",
   "execution_count": 28,
   "id": "71e5588a-3667-4dd8-8237-c19d8f6f9103",
   "metadata": {},
   "outputs": [],
   "source": [
    "dicl[\"chave_um\"] = 2"
   ]
  },
  {
   "cell_type": "code",
   "execution_count": 29,
   "id": "9f30d0db-d7da-437c-b85b-720aa78d5870",
   "metadata": {},
   "outputs": [
    {
     "name": "stdout",
     "output_type": "stream",
     "text": [
      "{'chave_um': 2}\n"
     ]
    }
   ],
   "source": [
    "print(dicl)"
   ]
  },
  {
   "cell_type": "code",
   "execution_count": 30,
   "id": "73835ffc-01a4-4b12-9c02-f6a2ccf35978",
   "metadata": {},
   "outputs": [],
   "source": [
    "dicl[10] = 5"
   ]
  },
  {
   "cell_type": "code",
   "execution_count": 31,
   "id": "61fe986e-ccbf-44dd-b7b1-8042a5b0e048",
   "metadata": {},
   "outputs": [
    {
     "data": {
      "text/plain": [
       "{'chave_um': 2, 10: 5}"
      ]
     },
     "execution_count": 31,
     "metadata": {},
     "output_type": "execute_result"
    }
   ],
   "source": [
    "dicl"
   ]
  },
  {
   "cell_type": "code",
   "execution_count": 32,
   "id": "e3a65be1-2a38-4c39-a8c9-65105aff9c6f",
   "metadata": {},
   "outputs": [],
   "source": [
    "dicl[9.13] = \"Python\""
   ]
  },
  {
   "cell_type": "code",
   "execution_count": 33,
   "id": "dd6a9bcd-973e-4c2e-b202-6a88eceebb88",
   "metadata": {},
   "outputs": [
    {
     "data": {
      "text/plain": [
       "{'chave_um': 2, 10: 5, 9.13: 'Python'}"
      ]
     },
     "execution_count": 33,
     "metadata": {},
     "output_type": "execute_result"
    }
   ],
   "source": [
    "dicl"
   ]
  },
  {
   "cell_type": "code",
   "execution_count": 35,
   "id": "8ed7312d-74b5-4af3-bc79-9d5aaa23a4f2",
   "metadata": {},
   "outputs": [],
   "source": [
    "dicl[\"teste\"] = 5"
   ]
  },
  {
   "cell_type": "code",
   "execution_count": 36,
   "id": "bac16f50-fca7-4f2b-8f8c-8f6f04fd64c4",
   "metadata": {},
   "outputs": [
    {
     "data": {
      "text/plain": [
       "{'chave_um': 2, 10: 5, 9.13: 'Python', 'teste': 5}"
      ]
     },
     "execution_count": 36,
     "metadata": {},
     "output_type": "execute_result"
    }
   ],
   "source": [
    "dicl"
   ]
  },
  {
   "cell_type": "code",
   "execution_count": 37,
   "id": "64dbfa9a-c7be-4ee4-993c-0c30d103b399",
   "metadata": {},
   "outputs": [],
   "source": [
    "dict2 = {}"
   ]
  },
  {
   "cell_type": "code",
   "execution_count": 38,
   "id": "8f546c4e-d4bb-4e71-9d44-61b6a2acdd02",
   "metadata": {},
   "outputs": [],
   "source": [
    "dict2['key1'] = \"Data Science\"\n",
    "dict2['key2'] = 10\n",
    "dict2['key3'] = 100\n"
   ]
  },
  {
   "cell_type": "code",
   "execution_count": 39,
   "id": "89f6013a-9e21-463e-ae92-e1beac050c5d",
   "metadata": {},
   "outputs": [
    {
     "data": {
      "text/plain": [
       "{'key1': 'Data Science', 'key2': 10, 'key3': 100}"
      ]
     },
     "execution_count": 39,
     "metadata": {},
     "output_type": "execute_result"
    }
   ],
   "source": [
    "dict2"
   ]
  },
  {
   "cell_type": "code",
   "execution_count": 43,
   "id": "bf613eba-fab6-43d2-a8ae-30502e068130",
   "metadata": {},
   "outputs": [],
   "source": [
    "#atribuir valor do dicionario a uma variavel\n",
    "a = dict2[\"key1\"]\n",
    "b = dict2[\"key2\"]\n",
    "c = dict2[\"key3\"]"
   ]
  },
  {
   "cell_type": "code",
   "execution_count": 44,
   "id": "1867a48f-eb4b-410e-b3a6-8b938ab43499",
   "metadata": {},
   "outputs": [
    {
     "data": {
      "text/plain": [
       "('Data Science', 10, 100)"
      ]
     },
     "execution_count": 44,
     "metadata": {},
     "output_type": "execute_result"
    }
   ],
   "source": [
    "a, b, c"
   ]
  },
  {
   "cell_type": "code",
   "execution_count": 45,
   "id": "bcafe98b-e1cd-4b62-ab2f-f5105a6274d9",
   "metadata": {},
   "outputs": [],
   "source": [
    "#DICIONARIO DE LISTAS\n",
    "dict3 = {'chave1':1230, 'chave2':[22, 453, 73.4], 'chave3':['picanha', 'fraldinha', 'alcatra']}"
   ]
  },
  {
   "cell_type": "code",
   "execution_count": 46,
   "id": "47f8a7bf-91fd-4828-b33c-420d8605e6ad",
   "metadata": {},
   "outputs": [
    {
     "data": {
      "text/plain": [
       "{'chave1': 1230,\n",
       " 'chave2': [22, 453, 73.4],\n",
       " 'chave3': ['picanha', 'fraldinha', 'alcatra']}"
      ]
     },
     "execution_count": 46,
     "metadata": {},
     "output_type": "execute_result"
    }
   ],
   "source": [
    "dict3"
   ]
  },
  {
   "cell_type": "code",
   "execution_count": 47,
   "id": "ebe71938-bc92-42ee-ad88-6edb900da5c2",
   "metadata": {},
   "outputs": [
    {
     "data": {
      "text/plain": [
       "[22, 453, 73.4]"
      ]
     },
     "execution_count": 47,
     "metadata": {},
     "output_type": "execute_result"
    }
   ],
   "source": [
    "dict3['chave2']"
   ]
  },
  {
   "cell_type": "code",
   "execution_count": 48,
   "id": "07d44ae1-a463-49d8-843e-46a1eab45b03",
   "metadata": {},
   "outputs": [
    {
     "data": {
      "text/plain": [
       "'PICANHA'"
      ]
     },
     "execution_count": 48,
     "metadata": {},
     "output_type": "execute_result"
    }
   ],
   "source": [
    "#acessando item da lista, dentro do dicionario\n",
    "dict3['chave3'][0].upper()"
   ]
  },
  {
   "cell_type": "code",
   "execution_count": 51,
   "id": "f2dab187-548e-47b3-a2f5-bab6b09632df",
   "metadata": {},
   "outputs": [],
   "source": [
    "#operação com item da lista, dentro do dicionario\n",
    "var1 = dict3['chave2'][0] - 2"
   ]
  },
  {
   "cell_type": "code",
   "execution_count": 65,
   "id": "2a9ef309-f558-4051-9a0d-456489888f58",
   "metadata": {},
   "outputs": [
    {
     "data": {
      "text/plain": [
       "-2"
      ]
     },
     "execution_count": 65,
     "metadata": {},
     "output_type": "execute_result"
    }
   ],
   "source": [
    "var1"
   ]
  },
  {
   "cell_type": "code",
   "execution_count": 63,
   "id": "da51d0ff-fa2f-413a-be65-23abc815a1ac",
   "metadata": {},
   "outputs": [],
   "source": [
    "dict3['chave2'][0] -= 2"
   ]
  },
  {
   "cell_type": "code",
   "execution_count": 64,
   "id": "2089c096-d741-4c2a-b6f4-2fcb4197a853",
   "metadata": {},
   "outputs": [
    {
     "data": {
      "text/plain": [
       "{'chave1': 1230,\n",
       " 'chave2': [20, 453, 73.4],\n",
       " 'chave3': ['picanha', 'fraldinha', 'alcatra']}"
      ]
     },
     "execution_count": 64,
     "metadata": {},
     "output_type": "execute_result"
    }
   ],
   "source": [
    "dict3"
   ]
  },
  {
   "cell_type": "markdown",
   "id": "3a3eeb13-d940-416c-a77e-a610e8d49b4f",
   "metadata": {},
   "source": [
    "<span style='font-weight:800; font-size:20px'>DICIONARIO ANINHADO</span>"
   ]
  },
  {
   "cell_type": "code",
   "execution_count": 66,
   "id": "b02c0f2d-5160-427d-8cc1-1b5d219ba3b7",
   "metadata": {},
   "outputs": [],
   "source": [
    "dict_aninhado = {'key1':{'key2_aninhada':{'key3_aninhada': 'Dict aninhado em Python'}}}"
   ]
  },
  {
   "cell_type": "code",
   "execution_count": 67,
   "id": "a1a97194-dff3-41ab-b1b0-315c512cd593",
   "metadata": {},
   "outputs": [
    {
     "data": {
      "text/plain": [
       "{'key1': {'key2_aninhada': {'key3_aninhada': 'Dict aninhado em Python'}}}"
      ]
     },
     "execution_count": 67,
     "metadata": {},
     "output_type": "execute_result"
    }
   ],
   "source": [
    "dict_aninhado"
   ]
  }
 ],
 "metadata": {
  "kernelspec": {
   "display_name": "Python 3 (ipykernel)",
   "language": "python",
   "name": "python3"
  },
  "language_info": {
   "codemirror_mode": {
    "name": "ipython",
    "version": 3
   },
   "file_extension": ".py",
   "mimetype": "text/x-python",
   "name": "python",
   "nbconvert_exporter": "python",
   "pygments_lexer": "ipython3",
   "version": "3.12.7"
  }
 },
 "nbformat": 4,
 "nbformat_minor": 5
}
